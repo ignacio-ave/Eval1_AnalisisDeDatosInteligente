{
 "cells": [
  {
   "cell_type": "markdown",
   "id": "bf4d8c53",
   "metadata": {},
   "source": [
    "## ppr.py\n"
   ]
  },
  {
   "cell_type": "code",
   "execution_count": null,
   "id": "80ca68d4",
   "metadata": {
    "vscode": {
     "languageId": "plaintext"
    }
   },
   "outputs": [],
   "source": [
    "#----------------------------------------------\n",
    "# Create Features by use \n",
    "# Dispersion Entropy and Permutation entropy\n",
    "#----------------------------------------------\n",
    "\n",
    "import pandas   as pd\n",
    "import numpy   as np\n",
    "from utility import entropy_dispersion, entropy_prmuta\n",
    "\n",
    "# Load  parameters Entropy\n",
    "def conf_entropy():    \n",
    "\n",
    "    return(opt,d,tau,c)\n",
    "\n",
    "# Load Data\n",
    "def load_data(nFile):\n",
    "\n",
    "# Obtain entropy : dispersión and Permutation\n",
    "def gets_entropy(x,opt,d,tau,c):\n",
    "    \n",
    "    return()\n",
    "    \n",
    "# Obtain Features by use Entropy    \n",
    "def gets_features():\n",
    "    \n",
    "    return(F)    \n",
    "# Beginning ...\n",
    "def main():\n",
    "    conf_entropy()            \n",
    "    load_data()\n",
    "    F1 = gets_features()\n",
    "    F2 = gets_features()\n",
    "    F  = np.concatenate((F1, F2), axis=0)\n",
    "    save_data(F)\n",
    "    \n",
    "       \n",
    "if __name__ == '__main__':   \n",
    "\t main()\n",
    "\n"
   ]
  },
  {
   "cell_type": "markdown",
   "id": "231f286e",
   "metadata": {},
   "source": [
    "## trn.py\n"
   ]
  },
  {
   "cell_type": "code",
   "execution_count": null,
   "id": "7cc447a3",
   "metadata": {
    "vscode": {
     "languageId": "plaintext"
    }
   },
   "outputs": [],
   "source": [
    "# Logistic Regression's Training :\n",
    "\n",
    "import numpy      as np\n",
    "import utility    as ut\n",
    "\n",
    "#Save weights and Cost\n",
    "def save_w_cost():\n",
    "    ...\n",
    "    return\n",
    "#\n",
    "def iniWs():\n",
    "    ...\n",
    "    return(W,V)\n",
    "# Load config train for Regression\n",
    "#\n",
    "#Training by use mGD\n",
    "def train():    \n",
    "    \n",
    "    ....\n",
    "    return()\n",
    "# Load data to train \n",
    "def load_data():\n",
    "    \n",
    "    \n",
    "    return()\n",
    "#\n",
    "def conf_train(nFile):\n",
    "    ....\n",
    "    return()\n",
    "\n",
    "# Beginning ...\n",
    "def main():    \n",
    "    conf_train()\n",
    "    load_data()   \n",
    "    train()             \n",
    "    save_w_cost(W,Cost, 'pesos.csv','costo.csv')\n",
    "       \n",
    "if __name__ == '__main__':   \n",
    "\t main()\n",
    "\n"
   ]
  },
  {
   "cell_type": "markdown",
   "id": "ac0fd2fe",
   "metadata": {},
   "source": [
    "## tst.py"
   ]
  },
  {
   "cell_type": "code",
   "execution_count": null,
   "id": "76ff6407",
   "metadata": {
    "vscode": {
     "languageId": "plaintext"
    }
   },
   "outputs": [],
   "source": [
    "# Testing for Logistic Regresion\n",
    "import numpy as np\n",
    "\n",
    "def forward(xv,w):\n",
    "    ...\n",
    "    return(zv)\n",
    "#\n",
    "def measure(yv,zv):\n",
    "    ...\n",
    "    return(cmatrix,Fscores)\n",
    "#\n",
    "def save_measure(cm,Fsc,nFile1,nFile2):\n",
    "    ...\n",
    "    return()\n",
    "# Load weight\n",
    "def load_w(nFile):\n",
    "    ...\n",
    "    return(W)\n",
    "# \n",
    "def load_data(nFile):\n",
    "    ....\n",
    "    return(x,y)\n",
    "# Beginning ...\n",
    "def main():\t\t\t\n",
    "\tload_data()\n",
    "\tload_w()\n",
    "\tzv     = forward(xv,W)      \t\t\n",
    "\tcm,Fsc = metricas(yv,zv) \t\n",
    "\tsave_measure(cm,Fsc,'cmatrix.csv','Fscores.csv')\t\t\n",
    "\n",
    "if __name__ == '__main__':   \n",
    "\t main()\n",
    "\n"
   ]
  },
  {
   "cell_type": "markdown",
   "id": "5c4f7b7e",
   "metadata": {},
   "source": [
    "## utility.py"
   ]
  },
  {
   "cell_type": "code",
   "execution_count": null,
   "id": "7accf246",
   "metadata": {
    "vscode": {
     "languageId": "plaintext"
    }
   },
   "outputs": [],
   "source": [
    "\n",
    "# My Utility : auxiliars functions\n",
    "\n",
    "import pandas as pd\n",
    "import numpy  as np\n",
    "\n",
    "\n",
    "# CResidual-Dispersion Entropy\n",
    "def entropy_dispersion(x,d,tau,c):\n",
    "    ...\n",
    "    return(entr)\n",
    "#\n",
    "# Permutation Entropy\n",
    "def entropy_permuta(x,m,tau):\n",
    "    ...\n",
    "    return(entr)\n",
    "#\n",
    "\n",
    "\n"
   ]
  }
 ],
 "metadata": {
  "language_info": {
   "name": "python"
  }
 },
 "nbformat": 4,
 "nbformat_minor": 5
}
